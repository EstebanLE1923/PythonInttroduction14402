{
  "nbformat": 4,
  "nbformat_minor": 0,
  "metadata": {
    "colab": {
      "provenance": [],
      "authorship_tag": "ABX9TyOlc42G/4SlSkVfN2xuX0JX",
      "include_colab_link": true
    },
    "kernelspec": {
      "name": "python3",
      "display_name": "Python 3"
    },
    "language_info": {
      "name": "python"
    }
  },
  "cells": [
    {
      "cell_type": "markdown",
      "metadata": {
        "id": "view-in-github",
        "colab_type": "text"
      },
      "source": [
        "<a href=\"https://colab.research.google.com/github/EstebanLE1923/PythonInttroduction14402/blob/main/PythonIntroduction.ipynb\" target=\"_parent\"><img src=\"https://colab.research.google.com/assets/colab-badge.svg\" alt=\"Open In Colab\"/></a>"
      ]
    },
    {
      "cell_type": "markdown",
      "source": [
        "# Mis Apuntes de Phyton\n",
        "### Fundamentos de  Programación 202420\n",
        "**Nombre:** Esteban Guerra\n",
        "\n",
        "__email:__ esteban.guerrap@upb.edu.co\n",
        "\n",
        "*Fecha de creación:* 20 de agosto, 2024\n",
        "_Excelsius!_"
      ],
      "metadata": {
        "id": "TeXHVWORroah"
      }
    },
    {
      "cell_type": "code",
      "execution_count": 7,
      "metadata": {
        "id": "lP4EFioFp6kZ",
        "colab": {
          "base_uri": "https://localhost:8080/"
        },
        "outputId": "5e331949-5eae-47eb-a21c-12baceaf7781"
      },
      "outputs": [
        {
          "output_type": "stream",
          "name": "stdout",
          "text": [
            "Hola Mundo\n",
            "Esteban\n",
            "hola, mi nombre es Esteban tengo 18 años y soy de Montería\n",
            "35.5\n"
          ]
        }
      ],
      "source": [
        "# Mis primeros pasos con Python\n",
        "\n",
        "print(\"Hola Mundo\")\n",
        "print('Esteban')\n",
        "\n",
        "name = \"Esteban\"\n",
        "age = 18\n",
        "city = \"Montería\"\n",
        "print(\"hola, mi nombre es\", name, \"tengo\", age, \"años y soy de\", city)\n",
        "\n",
        "# Número\n",
        "a = 16.5\n",
        "b = 19\n",
        "print(a+b)\n"
      ]
    },
    {
      "cell_type": "code",
      "source": [
        "# Operaciones Matemáticas Básicas\n",
        "\n",
        "print(3+2)\n",
        "print(3-2)\n",
        "print(3*2)\n",
        "print(3/2)\n",
        "print(3%2)\n",
        "print(3**2)\n",
        "print(3//2)\n"
      ],
      "metadata": {
        "colab": {
          "base_uri": "https://localhost:8080/"
        },
        "id": "SjJs-H7ZzTf-",
        "outputId": "fdea5df5-f4a2-4596-8a68-5b66b92b750f"
      },
      "execution_count": 8,
      "outputs": [
        {
          "output_type": "stream",
          "name": "stdout",
          "text": [
            "5\n",
            "1\n",
            "6\n",
            "1.5\n",
            "1\n",
            "9\n",
            "1\n"
          ]
        }
      ]
    },
    {
      "cell_type": "code",
      "source": [
        "# Concatenación\n",
        "name = \"juan\"\n",
        "lastname = \"sinlao\"\n",
        "fullname = name + \" \" + lastname\n",
        "print(\"_\"*20)\n",
        "print(fullname)\n",
        "print(\"_\" * 20)"
      ],
      "metadata": {
        "colab": {
          "base_uri": "https://localhost:8080/"
        },
        "id": "9rjtsLUE1S0h",
        "outputId": "6d390fd5-2d7b-414e-dc58-d0a458a1b16a"
      },
      "execution_count": 17,
      "outputs": [
        {
          "output_type": "stream",
          "name": "stdout",
          "text": [
            "____________________\n",
            "juan sinlao\n",
            "____________________\n"
          ]
        }
      ]
    },
    {
      "cell_type": "code",
      "source": [
        "# Incrementos\n",
        "a = 20\n",
        "print(\"a =\", a)\n",
        "b = 10\n",
        "a += b\n",
        "print(\"a =\", a)\n"
      ],
      "metadata": {
        "colab": {
          "base_uri": "https://localhost:8080/"
        },
        "id": "Swungzb73SsH",
        "outputId": "607b725d-816f-4578-961a-57ad946d3719"
      },
      "execution_count": 15,
      "outputs": [
        {
          "output_type": "stream",
          "name": "stdout",
          "text": [
            "a = 20\n"
          ]
        }
      ]
    },
    {
      "cell_type": "code",
      "source": [
        "# Multi-Line\n",
        "song = \"\"\"\n",
        "si la plata fuera estable todo el tiempo\n",
        "yo no beberia ni malgastaría la plata\n",
        "pero me di cuenta que la vida es un sueño\n",
        "y antes de morir en mejor aprovecharla\n",
        "\"\"\"\n",
        "print(song)\n"
      ],
      "metadata": {
        "colab": {
          "base_uri": "https://localhost:8080/"
        },
        "id": "Ce_TSBVO4bQH",
        "outputId": "1ae6d5a3-28c2-47d0-cccc-9f56143f5385"
      },
      "execution_count": 16,
      "outputs": [
        {
          "output_type": "stream",
          "name": "stdout",
          "text": [
            "\n",
            "si la plata fuera estable todo el tiempo \n",
            "yo no beberia ni malgastaría la plata \n",
            "pero me di cuenta que la vida es un sueño \n",
            "y antes de morir en mejor aprovecharla  \n",
            "\n"
          ]
        }
      ]
    }
  ]
}